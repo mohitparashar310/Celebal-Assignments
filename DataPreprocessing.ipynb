{
 "cells": [
  {
   "cell_type": "code",
   "execution_count": 1,
   "id": "fe428b23",
   "metadata": {},
   "outputs": [],
   "source": [
    "# Import necessary libraries\n",
    "import pandas as pd\n",
    "from sklearn.preprocessing import StandardScaler, OneHotEncoder\n",
    "from sklearn.compose import ColumnTransformer\n",
    "from sklearn.pipeline import Pipeline"
   ]
  },
  {
   "cell_type": "code",
   "execution_count": 2,
   "id": "316003dd",
   "metadata": {},
   "outputs": [],
   "source": [
    "# Load the dataset\n",
    "titanic_df = pd.read_csv('Titanic-Dataset.csv')"
   ]
  },
  {
   "cell_type": "code",
   "execution_count": 3,
   "id": "30c7295d",
   "metadata": {},
   "outputs": [
    {
     "name": "stdout",
     "output_type": "stream",
     "text": [
      "Initial dataset:\n",
      "   PassengerId  Survived  Pclass  \\\n",
      "0            1         0       3   \n",
      "1            2         1       1   \n",
      "2            3         1       3   \n",
      "3            4         1       1   \n",
      "4            5         0       3   \n",
      "\n",
      "                                                Name     Sex   Age  SibSp  \\\n",
      "0                            Braund, Mr. Owen Harris    male  22.0      1   \n",
      "1  Cumings, Mrs. John Bradley (Florence Briggs Th...  female  38.0      1   \n",
      "2                             Heikkinen, Miss. Laina  female  26.0      0   \n",
      "3       Futrelle, Mrs. Jacques Heath (Lily May Peel)  female  35.0      1   \n",
      "4                           Allen, Mr. William Henry    male  35.0      0   \n",
      "\n",
      "   Parch            Ticket     Fare Cabin Embarked  \n",
      "0      0         A/5 21171   7.2500   NaN        S  \n",
      "1      0          PC 17599  71.2833   C85        C  \n",
      "2      0  STON/O2. 3101282   7.9250   NaN        S  \n",
      "3      0            113803  53.1000  C123        S  \n",
      "4      0            373450   8.0500   NaN        S  \n"
     ]
    }
   ],
   "source": [
    "# Display the first few rows of the dataset\n",
    "print(\"Initial dataset:\")\n",
    "print(titanic_df.head())"
   ]
  },
  {
   "cell_type": "code",
   "execution_count": 4,
   "id": "7a32ab78",
   "metadata": {},
   "outputs": [],
   "source": [
    "# 1. Handling Missing Values\n",
    "# Drop the 'Cabin' column due to high percentage of missing values\n",
    "titanic_df.drop(columns=['Cabin'], inplace=True)"
   ]
  },
  {
   "cell_type": "code",
   "execution_count": 5,
   "id": "93601b85",
   "metadata": {},
   "outputs": [],
   "source": [
    "# Impute missing 'Age' values with the median age\n",
    "titanic_df['Age'].fillna(titanic_df['Age'].median(), inplace=True)\n"
   ]
  },
  {
   "cell_type": "code",
   "execution_count": 6,
   "id": "021b6af8",
   "metadata": {},
   "outputs": [],
   "source": [
    "# Impute missing 'Embarked' values with the mode\n",
    "titanic_df['Embarked'].fillna(titanic_df['Embarked'].mode()[0], inplace=True)"
   ]
  },
  {
   "cell_type": "code",
   "execution_count": 7,
   "id": "2b8c240c",
   "metadata": {},
   "outputs": [
    {
     "name": "stdout",
     "output_type": "stream",
     "text": [
      "\n",
      "Missing values after imputation:\n",
      "PassengerId    0\n",
      "Survived       0\n",
      "Pclass         0\n",
      "Name           0\n",
      "Sex            0\n",
      "Age            0\n",
      "SibSp          0\n",
      "Parch          0\n",
      "Ticket         0\n",
      "Fare           0\n",
      "Embarked       0\n",
      "dtype: int64\n"
     ]
    }
   ],
   "source": [
    "# Verify that there are no more missing values\n",
    "print(\"\\nMissing values after imputation:\")\n",
    "print(titanic_df.isnull().sum())"
   ]
  },
  {
   "cell_type": "code",
   "execution_count": 8,
   "id": "55d8ae4d",
   "metadata": {},
   "outputs": [],
   "source": [
    "# 2. Normalization\n",
    "# Define numerical features\n",
    "num_features = ['Age', 'Fare']\n"
   ]
  },
  {
   "cell_type": "code",
   "execution_count": 9,
   "id": "1c91bea7",
   "metadata": {},
   "outputs": [],
   "source": [
    "# Normalize numerical features using StandardScaler\n",
    "scaler = StandardScaler()\n",
    "titanic_df[num_features] = scaler.fit_transform(titanic_df[num_features])"
   ]
  },
  {
   "cell_type": "code",
   "execution_count": 10,
   "id": "dbca4d12",
   "metadata": {},
   "outputs": [],
   "source": [
    "# 3. Encoding Categorical Variables\n",
    "# Define categorical features\n",
    "cat_features = ['Sex', 'Embarked']"
   ]
  },
  {
   "cell_type": "code",
   "execution_count": 12,
   "id": "9b3e0907",
   "metadata": {},
   "outputs": [],
   "source": [
    "# Encode categorical features using one-hot encoding\n",
    "titanic_df = pd.get_dummies(titanic_df, columns=cat_features, drop_first=True)"
   ]
  },
  {
   "cell_type": "code",
   "execution_count": 14,
   "id": "14cf2c84",
   "metadata": {},
   "outputs": [],
   "source": [
    "# 4. Feature Engineering\n",
    "# Creating new feature 'FamilySize' as the sum of 'SibSp' and 'Parch'\n",
    "titanic_df['FamilySize'] = titanic_df['SibSp'] + titanic_df['Parch']"
   ]
  },
  {
   "cell_type": "code",
   "execution_count": 15,
   "id": "0ddb630b",
   "metadata": {},
   "outputs": [],
   "source": [
    "# Drop columns that won't be used for modeling\n",
    "titanic_df.drop(columns=['PassengerId', 'Name', 'Ticket'], inplace=True)"
   ]
  },
  {
   "cell_type": "code",
   "execution_count": 16,
   "id": "e2229234",
   "metadata": {},
   "outputs": [
    {
     "name": "stdout",
     "output_type": "stream",
     "text": [
      "\n",
      "Processed dataset:\n",
      "   Survived  Pclass       Age  SibSp  Parch      Fare  Sex_male  Embarked_Q  \\\n",
      "0         0       3 -0.565736      1      0 -0.502445      True       False   \n",
      "1         1       1  0.663861      1      0  0.786845     False       False   \n",
      "2         1       3 -0.258337      0      0 -0.488854     False       False   \n",
      "3         1       1  0.433312      1      0  0.420730     False       False   \n",
      "4         0       3  0.433312      0      0 -0.486337      True       False   \n",
      "\n",
      "   Embarked_S  FamilySize  \n",
      "0        True           1  \n",
      "1       False           1  \n",
      "2        True           0  \n",
      "3        True           1  \n",
      "4        True           0  \n"
     ]
    }
   ],
   "source": [
    "# Display the first few rows of the processed dataset\n",
    "print(\"\\nProcessed dataset:\")\n",
    "print(titanic_df.head())"
   ]
  },
  {
   "cell_type": "code",
   "execution_count": null,
   "id": "7d9e87fb",
   "metadata": {},
   "outputs": [],
   "source": []
  },
  {
   "cell_type": "code",
   "execution_count": null,
   "id": "c08b1965",
   "metadata": {},
   "outputs": [],
   "source": []
  }
 ],
 "metadata": {
  "kernelspec": {
   "display_name": "Python 3 (ipykernel)",
   "language": "python",
   "name": "python3"
  },
  "language_info": {
   "codemirror_mode": {
    "name": "ipython",
    "version": 3
   },
   "file_extension": ".py",
   "mimetype": "text/x-python",
   "name": "python",
   "nbconvert_exporter": "python",
   "pygments_lexer": "ipython3",
   "version": "3.11.5"
  }
 },
 "nbformat": 4,
 "nbformat_minor": 5
}
